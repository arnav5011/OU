{
 "cells": [
  {
   "cell_type": "code",
   "execution_count": 1,
   "id": "9fc5015e",
   "metadata": {},
   "outputs": [
    {
     "name": "stdout",
     "output_type": "stream",
     "text": [
      "2010-01-01\n"
     ]
    }
   ],
   "source": [
    "from calibrate.cluster_model import ClusterFactory, ClusteringOptimizer"
   ]
  },
  {
   "cell_type": "code",
   "execution_count": 2,
   "id": "c9b94554",
   "metadata": {},
   "outputs": [
    {
     "name": "stdout",
     "output_type": "stream",
     "text": [
      "\n",
      "--- Testing KMEANS ---\n",
      "Best_parameters: {'n_clusters': 5}\n",
      "custom score: 2.658290371840368\n",
      "\n",
      "--- Testing GMM ---\n",
      "Best_parameters: {'n_components': 10, 'covariance_type': 'spherical'}\n",
      "custom score: 2.0749057978369354\n",
      "\n",
      "--- Testing HIERARCHICAL ---\n",
      "Best_parameters: {'n_clusters': 6, 'linkage': 'single'}\n",
      "custom score: 5.308244782275534\n",
      "\n",
      "--- Testing SPECTRAL ---\n",
      "Best_parameters: {'n_clusters': 10, 'affinity': 'rbf'}\n",
      "custom score: 4.787216514837932\n"
     ]
    }
   ],
   "source": [
    "# Finding optimum clustering method:\n",
    "\n",
    "\n",
    "# From data parsing\n",
    "sector = \"Information Technology\"\n",
    "start_date = 20100101\n",
    "end_date = 20170101\n",
    "\n",
    "results = {}\n",
    "for method in [\"kmeans\", \"gmm\", \"hierarchical\", \"spectral\"]:\n",
    "    print(f\"\\n--- Testing {method.upper()} ---\")\n",
    "    model = ClusterFactory.create(method, sector, start_date, end_date)\n",
    "    optimizer = ClusteringOptimizer(model)\n",
    "    best_params, best_score, all_results = optimizer.search()\n",
    "    print(f\"Best_parameters: {best_params}\")\n",
    "    print(f\"custom score: {best_score}\")\n",
    "    results[method] = (best_params, best_score)\n",
    "\n"
   ]
  },
  {
   "cell_type": "code",
   "execution_count": 4,
   "id": "2997d549",
   "metadata": {},
   "outputs": [],
   "source": [
    "best_method, (best_params, best_score) = max(results.items(), key=lambda x: x[1][1])\n",
    "\n",
    "model = ClusterFactory.create(best_method, sector, start_date, end_date, **best_params)\n",
    "\n",
    "model.fit()"
   ]
  }
 ],
 "metadata": {
  "kernelspec": {
   "display_name": "venv (3.12.3)",
   "language": "python",
   "name": "python3"
  },
  "language_info": {
   "codemirror_mode": {
    "name": "ipython",
    "version": 3
   },
   "file_extension": ".py",
   "mimetype": "text/x-python",
   "name": "python",
   "nbconvert_exporter": "python",
   "pygments_lexer": "ipython3",
   "version": "3.12.3"
  }
 },
 "nbformat": 4,
 "nbformat_minor": 5
}
