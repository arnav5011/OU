{
 "cells": [
  {
   "cell_type": "code",
   "execution_count": 1,
   "id": "9fc5015e",
   "metadata": {},
   "outputs": [
    {
     "name": "stdout",
     "output_type": "stream",
     "text": [
      "2010-01-01\n"
     ]
    }
   ],
   "source": [
    "from calibrate.cluster_model import ClusterFactory, ClusteringOptimizer\n",
    "from calibrate.cointegration import PriceData, CointegrrationTest\n",
    "from calibrate.OU_calibration import OUCalibration\n",
    "from calibrate.baskets import Basket"
   ]
  },
  {
   "cell_type": "code",
   "execution_count": 2,
   "id": "c9b94554",
   "metadata": {},
   "outputs": [
    {
     "name": "stdout",
     "output_type": "stream",
     "text": [
      "\n",
      "--- Testing KMEANS ---\n",
      "Best_parameters: {'n_clusters': 10}\n",
      "custom score: 0.8903151363655653\n",
      "\n",
      "--- Testing GMM ---\n",
      "Best_parameters: {'n_components': 10, 'covariance_type': 'full'}\n",
      "custom score: 0.9957682241937804\n",
      "\n",
      "--- Testing HIERARCHICAL ---\n",
      "Best_parameters: {'n_clusters': 9, 'linkage': 'average'}\n",
      "custom score: 0.8989953733213722\n",
      "\n",
      "--- Testing SPECTRAL ---\n",
      "Best_parameters: {'n_clusters': 10, 'affinity': 'nearest_neighbors'}\n",
      "custom score: 0.6654449149537476\n"
     ]
    }
   ],
   "source": [
    "# Finding optimum clustering method:\n",
    "\n",
    "\n",
    "# From data parsing\n",
    "sector = \"Information Technology\"\n",
    "start_date = 20100101\n",
    "end_date = 20170101\n",
    "\n",
    "results = {}\n",
    "for method in [\"kmeans\", \"gmm\", \"hierarchical\", \"spectral\"]:\n",
    "    print(f\"\\n--- Testing {method.upper()} ---\")\n",
    "    model = ClusterFactory.create(method, sector, start_date, end_date)\n",
    "    optimizer = ClusteringOptimizer(model)\n",
    "    best_params, best_score, all_results = optimizer.search()\n",
    "    print(f\"Best_parameters: {best_params}\")\n",
    "    print(f\"custom score: {best_score}\")\n",
    "    results[method] = (best_params, best_score)\n",
    "\n",
    "\n",
    "\n",
    "\n"
   ]
  },
  {
   "cell_type": "code",
   "execution_count": 3,
   "id": "2997d549",
   "metadata": {},
   "outputs": [
    {
     "name": "stdout",
     "output_type": "stream",
     "text": [
      "\n",
      "Best method: GMM with score 0.9957682241937804\n",
      "\n",
      "Cluster 0 (7 items):\n",
      "['AKAM', 'AMAT', 'AVGO', 'EA', 'JNPR', 'LRCX', 'CRM']\n",
      "\n",
      "Cluster 1 (14 items):\n",
      "['ACN', 'GOOGL', 'GOOG', 'APH', 'ANSS', 'CSCO', 'IT', 'GPN', 'IBM', 'MCHP', 'MSFT', 'QCOM', 'TEL', 'VRSN']\n",
      "\n",
      "Cluster 2 (2 items):\n",
      "['AAPL', 'NVDA']\n",
      "\n",
      "Cluster 3 (2 items):\n",
      "['AMD', 'MU']\n",
      "\n",
      "Cluster 4 (5 items):\n",
      "['ADSK', 'FFIV', 'HPE', 'STX', 'WDC']\n",
      "\n",
      "Cluster 5 (6 items):\n",
      "['ADP', 'FIS', 'INTU', 'MSI', 'PAYX', 'SNPS']\n",
      "\n",
      "Cluster 6 (2 items):\n",
      "['QRVO', 'SWKS']\n",
      "\n",
      "Cluster 7 (7 items):\n",
      "['CDNS', 'GLW', 'DXC', 'HPQ', 'KLAC', 'NTAP', 'XRX']\n",
      "\n",
      "Cluster 8 (3 items):\n",
      "['CSRA', 'NFLX', 'PYPL']\n",
      "\n",
      "Cluster 9 (10 items):\n",
      "['ADBE', 'ADI', 'CTSH', 'EBAY', 'INTC', 'MA', 'ORCL', 'TXN', 'V', 'WU']\n"
     ]
    },
    {
     "name": "stderr",
     "output_type": "stream",
     "text": [
      "c:\\Users\\meghn\\Desktop\\Cambridge\\Projects\\OU\\calibrate\\cointegration.py:30: FutureWarning: YF.download() has changed argument auto_adjust default to True\n",
      "  prices = yf.download(batch, start=start_date, end=end_date)['Close']\n",
      "[*********************100%***********************]  20 of 20 completed\n",
      "c:\\Users\\meghn\\Desktop\\Cambridge\\Projects\\OU\\calibrate\\cointegration.py:30: FutureWarning: YF.download() has changed argument auto_adjust default to True\n",
      "  prices = yf.download(batch, start=start_date, end=end_date)['Close']\n",
      "[*********************100%***********************]  20 of 20 completed\n",
      "\n",
      "1 Failed download:\n",
      "['JNPR']: YFPricesMissingError('possibly delisted; no price data found  (1d 2010-01-01 -> 2017-01-01) (Yahoo error = \"No data found, symbol may be delisted\")')\n",
      "c:\\Users\\meghn\\Desktop\\Cambridge\\Projects\\OU\\calibrate\\cointegration.py:30: FutureWarning: YF.download() has changed argument auto_adjust default to True\n",
      "  prices = yf.download(batch, start=start_date, end=end_date)['Close']\n",
      "[*********************100%***********************]  18 of 18 completed\n"
     ]
    }
   ],
   "source": [
    "best_method, (best_params, best_score) = max(results.items(), key=lambda x: x[1][1])\n",
    "\n",
    "print(f\"\\nBest method: {best_method.upper()} with score {best_score}\")\n",
    "\n",
    "model = ClusterFactory.create(best_method, sector, start_date, end_date, **best_params)\n",
    "\n",
    "model.fit()\n",
    "model.show_baskets()\n",
    "model.evaluate()\n",
    "clustered_data = model.get_clustered_data()\n",
    "\n",
    "price_data = PriceData.get_time_series(clustered_data, start_date, end_date)"
   ]
  },
  {
   "cell_type": "code",
   "execution_count": 4,
   "id": "25a01e47",
   "metadata": {},
   "outputs": [
    {
     "name": "stderr",
     "output_type": "stream",
     "text": [
      "c:\\Users\\meghn\\Desktop\\Cambridge\\Projects\\OU\\calibrate\\cointegration.py:111: HypothesisTestWarning: Critical values are only available for time series with 12 variables at most.\n",
      "  result = coint_johansen(series, det_order=0, k_ar_diff=1)\n"
     ]
    },
    {
     "name": "stdout",
     "output_type": "stream",
     "text": [
      "Running cointegration tests...\n",
      "series1: 1762, series2: 1762\n",
      "series1: 1762, series2: 1762\n",
      "series1: 504, series2: 1762\n",
      "\n",
      "--- Cointegration Test Results ---\n",
      "Cluster: 1\n",
      "  Type: Johansen\n",
      "  Cointegrated: True\n",
      "  Rank: 2\n",
      "  Chosen Weights: [ 1.          4.05829812 -4.27323526 -0.62853359 -0.64122595  0.41613983\n",
      " -0.42322801 -0.4785663  -1.15295932  0.03386492 -0.04576117  1.10905348\n",
      " -0.03383913  0.74498334]\n",
      "  Ticker List: ['ACN', 'GOOGL', 'GOOG', 'APH', 'ANSS', 'CSCO', 'IT', 'GPN', 'IBM', 'MCHP', 'MSFT', 'QCOM', 'TEL', 'VRSN']\n",
      "Cluster: 9\n",
      "  Type: Johansen\n",
      "  Cointegrated: False\n",
      "  Rank: None\n",
      "  Chosen Weights: None\n",
      "  Ticker List: ['ADBE', 'ADI', 'CTSH', 'EBAY', 'INTC', 'MA', 'ORCL', 'TXN', 'V', 'WU']\n",
      "Cluster: 3\n",
      "  Type: Engle-Granger\n",
      "  Cointegrated: False\n",
      "  P-value: 0.7994944600035978\n",
      "  Alpha: 0.9922153714587744\n",
      "  Beta: -0.32042697681774507\n",
      "  Ticker 1: AMD\n",
      "  Ticker 2: MU\n",
      "Cluster: 0\n",
      "  Type: Johansen\n",
      "  Cointegrated: False\n",
      "  Rank: None\n",
      "  Chosen Weights: None\n",
      "  Ticker List: ['AKAM', 'AMAT', 'AVGO', 'EA', 'JNPR', 'LRCX', 'CRM']\n",
      "Cluster: 2\n",
      "  Type: Engle-Granger\n",
      "  Cointegrated: False\n",
      "  P-value: 0.33683045755760643\n",
      "  Alpha: 1.378328753974951\n",
      "  Beta: 0.49874611412012404\n",
      "  Ticker 1: AAPL\n",
      "  Ticker 2: NVDA\n",
      "Cluster: 4\n",
      "  Type: Johansen\n",
      "  Cointegrated: False\n",
      "  Rank: None\n",
      "  Chosen Weights: None\n",
      "  Ticker List: ['ADSK', 'FFIV', 'HPE', 'STX', 'WDC']\n",
      "Cluster: 5\n",
      "  Type: Johansen\n",
      "  Cointegrated: False\n",
      "  Rank: None\n",
      "  Chosen Weights: None\n",
      "  Ticker List: ['ADP', 'FIS', 'INTU', 'MSI', 'PAYX', 'SNPS']\n",
      "Cluster: 7\n",
      "  Type: Johansen\n",
      "  Cointegrated: True\n",
      "  Rank: 1\n",
      "  Chosen Weights: [  1.         157.77208561 -41.60518224 -47.15044535 -26.11257356\n",
      " -12.39184276 -24.00114282]\n",
      "  Ticker List: ['CDNS', 'GLW', 'DXC', 'HPQ', 'KLAC', 'NTAP', 'XRX']\n",
      "Cluster: 8\n",
      "  Type: Johansen\n",
      "  Cointegrated: True\n",
      "  Rank: 1\n",
      "  Chosen Weights: [ 1.         -0.68700085  0.14611983]\n",
      "  Ticker List: ['CSRA', 'NFLX', 'PYPL']\n",
      "Cluster: 6\n",
      "  Type: Engle-Granger\n",
      "  Cointegrated: True\n",
      "  P-value: 0.1985049586603415\n",
      "  Alpha: -0.1318756659251425\n",
      "  Beta: 1.0405673236313917\n",
      "  Ticker 1: QRVO\n",
      "  Ticker 2: SWKS\n"
     ]
    }
   ],
   "source": [
    "cointegration_test = CointegrrationTest(price_data, clustered_data)\n",
    "results = cointegration_test.run_cointegration_tests()\n",
    "print(\"\\n--- Cointegration Test Results ---\")\n",
    "for cluster, result in results.items():\n",
    "    print(f\"Cluster: {cluster}\")\n",
    "    print(f\"  Type: {result.type}\")\n",
    "    print(f\"  Cointegrated: {result.cointegrated}\")\n",
    "    if result.type == 'Engle-Granger':\n",
    "        print(f\"  P-value: {result.p_value}\")\n",
    "        print(f\"  Alpha: {result.alpha}\")\n",
    "        print(f\"  Beta: {result.beta}\")\n",
    "        print(f\"  Ticker 1: {result.ticker_1}\")\n",
    "        print(f\"  Ticker 2: {result.ticker_2}\")\n",
    "    elif result.type == 'Johansen':\n",
    "        print(f\"  Rank: {result.rank}\")\n",
    "        print(f\"  Chosen Weights: {result.chosen_weights}\")\n",
    "        print(f\"  Ticker List: {result.ticker_list}\")"
   ]
  },
  {
   "cell_type": "code",
   "execution_count": 5,
   "id": "bb255834",
   "metadata": {},
   "outputs": [
    {
     "name": "stdout",
     "output_type": "stream",
     "text": [
      "Running cointegration tests...\n",
      "series1: 1762, series2: 1762\n",
      "series1: 1762, series2: 1762\n"
     ]
    },
    {
     "name": "stderr",
     "output_type": "stream",
     "text": [
      "c:\\Users\\meghn\\Desktop\\Cambridge\\Projects\\OU\\calibrate\\cointegration.py:111: HypothesisTestWarning: Critical values are only available for time series with 12 variables at most.\n",
      "  result = coint_johansen(series, det_order=0, k_ar_diff=1)\n"
     ]
    },
    {
     "name": "stdout",
     "output_type": "stream",
     "text": [
      "series1: 504, series2: 1762\n",
      "\n",
      "--- Cointegrated Clusters ---\n",
      "Cluster: 1\n",
      "  Cointegration Type: Johansen\n",
      "  Rank: 2\n",
      "  Chosen Weights: [ 1.          4.05829812 -4.27323526 -0.62853359 -0.64122595  0.41613983\n",
      " -0.42322801 -0.4785663  -1.15295932  0.03386492 -0.04576117  1.10905348\n",
      " -0.03383913  0.74498334]\n",
      "  Ticker List: ACN, GOOGL, GOOG, APH, ANSS, CSCO, IT, GPN, IBM, MCHP, MSFT, QCOM, TEL, VRSN\n",
      "Cluster: 7\n",
      "  Cointegration Type: Johansen\n",
      "  Rank: 1\n",
      "  Chosen Weights: [  1.         157.77208561 -41.60518224 -47.15044535 -26.11257356\n",
      " -12.39184276 -24.00114282]\n",
      "  Ticker List: CDNS, GLW, DXC, HPQ, KLAC, NTAP, XRX\n",
      "Cluster: 8\n",
      "  Cointegration Type: Johansen\n",
      "  Rank: 1\n",
      "  Chosen Weights: [ 1.         -0.68700085  0.14611983]\n",
      "  Ticker List: CSRA, NFLX, PYPL\n",
      "Cluster: 6\n",
      "  Cointegration Type: Engle-Granger\n",
      "  P-value: 0.1985049586603415\n",
      "  Alpha: -0.1318756659251425\n",
      "  Beta: 1.0405673236313917\n",
      "  Ticker 1: QRVO\n",
      "  Ticker 2: SWKS\n"
     ]
    }
   ],
   "source": [
    "cointegrated_clustrs = cointegration_test.get_cointegrated_clusters()\n",
    "print(\"\\n--- Cointegrated Clusters ---\")\n",
    "for cluster in cointegrated_clustrs:\n",
    "    print(f\"Cluster: {cluster}\")\n",
    "    print(f\"  Cointegration Type: {cointegrated_clustrs[cluster].type}\")\n",
    "    if cointegrated_clustrs[cluster].type == 'Engle-Granger':\n",
    "        print(f\"  P-value: {cointegrated_clustrs[cluster].p_value}\")\n",
    "        print(f\"  Alpha: {cointegrated_clustrs[cluster].alpha}\")\n",
    "        print(f\"  Beta: {cointegrated_clustrs[cluster].beta}\")\n",
    "        print(f\"  Ticker 1: {cointegrated_clustrs[cluster].ticker_1}\")\n",
    "        print(f\"  Ticker 2: {cointegrated_clustrs[cluster].ticker_2}\")\n",
    "    elif cointegrated_clustrs[cluster].type == 'Johansen':\n",
    "        print(f\"  Rank: {cointegrated_clustrs[cluster].rank}\")\n",
    "        print(f\"  Chosen Weights: {cointegrated_clustrs[cluster].chosen_weights}\")\n",
    "        print(f\"  Ticker List: {', '.join(cointegrated_clustrs[cluster].ticker_list)}\")\n",
    "\n",
    "   "
   ]
  },
  {
   "cell_type": "code",
   "execution_count": 6,
   "id": "5e7ba943",
   "metadata": {},
   "outputs": [
    {
     "name": "stdout",
     "output_type": "stream",
     "text": [
      "Cluster 1:\n",
      " theta=0.0797, mean=-1.2636, vol=0.0264, half-life=8.70\n",
      "Cluster 7:\n",
      " theta=0.0253, mean=-15.9803, vol=2.4452, half-life=27.43\n",
      "Cluster 8:\n",
      " theta=0.0931, mean=0.6055, vol=0.0282, half-life=7.44\n",
      "Cluster 6:\n",
      " theta=0.0216, mean=-0.4666, vol=0.0231, half-life=32.08\n"
     ]
    }
   ],
   "source": [
    "oucal = OUCalibration(price_data, cointegrated_clustrs)\n",
    "spreads = oucal.form_spread()\n",
    "\n",
    "# Step 2: fit OU parameters for each spread\n",
    "ou_params = oucal.fit_ou_parameters(spreads)\n",
    "\n",
    "for cluster in ou_params:\n",
    "    print(f\"Cluster {cluster}:\")\n",
    "    result = ou_params[cluster]\n",
    "    theta, mu, sigma, half_life = result.theta, result.mu, result.sigma, result.half_life\n",
    "    print(f\" theta={theta:.4f}, mean={mu:.4f}, vol={sigma:.4f}, half-life={half_life:.2f}\")\n"
   ]
  },
  {
   "cell_type": "code",
   "execution_count": 8,
   "id": "0e2705b3",
   "metadata": {},
   "outputs": [
    {
     "name": "stdout",
     "output_type": "stream",
     "text": [
      "Cluster id: 1\n",
      "Cluster id: 7\n",
      "Cluster id: 8\n",
      "Cluster id: 6\n"
     ]
    }
   ],
   "source": [
    "basket_list = []\n",
    "for cluster in ou_params:\n",
    "    cluster_id = cluster\n",
    "    print(f\"Cluster id: {cluster_id}\")\n",
    "    params = ou_params[cluster]\n",
    "    cointegration_result = cointegrated_clustrs[cluster]\n",
    "    basket = Basket(cluster_id,cointegration_result,params)\n",
    "    basket_list.append(basket)"
   ]
  }
 ],
 "metadata": {
  "kernelspec": {
   "display_name": "venv (3.12.3)",
   "language": "python",
   "name": "python3"
  },
  "language_info": {
   "codemirror_mode": {
    "name": "ipython",
    "version": 3
   },
   "file_extension": ".py",
   "mimetype": "text/x-python",
   "name": "python",
   "nbconvert_exporter": "python",
   "pygments_lexer": "ipython3",
   "version": "3.12.3"
  }
 },
 "nbformat": 4,
 "nbformat_minor": 5
}
