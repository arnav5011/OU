{
 "cells": [
  {
   "cell_type": "code",
   "execution_count": 1,
   "id": "9fc5015e",
   "metadata": {},
   "outputs": [
    {
     "name": "stdout",
     "output_type": "stream",
     "text": [
      "2010-01-01\n"
     ]
    }
   ],
   "source": [
    "from calibrate.cluster_model import ClusterFactory, ClusteringOptimizer\n",
    "from calibrate.cointegration import PriceData"
   ]
  },
  {
   "cell_type": "code",
   "execution_count": 2,
   "id": "c9b94554",
   "metadata": {},
   "outputs": [
    {
     "name": "stdout",
     "output_type": "stream",
     "text": [
      "\n",
      "--- Testing KMEANS ---\n",
      "Best_parameters: {'n_clusters': 10}\n",
      "custom score: 0.8903151363655653\n",
      "\n",
      "--- Testing GMM ---\n",
      "Best_parameters: {'n_components': 10, 'covariance_type': 'full'}\n",
      "custom score: 0.9957682241937804\n",
      "\n",
      "--- Testing HIERARCHICAL ---\n",
      "Best_parameters: {'n_clusters': 9, 'linkage': 'average'}\n",
      "custom score: 0.8989953733213722\n",
      "\n",
      "--- Testing SPECTRAL ---\n",
      "Best_parameters: {'n_clusters': 10, 'affinity': 'nearest_neighbors'}\n",
      "custom score: 0.6654449149537476\n"
     ]
    }
   ],
   "source": [
    "# Finding optimum clustering method:\n",
    "\n",
    "\n",
    "# From data parsing\n",
    "sector = \"Information Technology\"\n",
    "start_date = 20100101\n",
    "end_date = 20170101\n",
    "\n",
    "results = {}\n",
    "for method in [\"kmeans\", \"gmm\", \"hierarchical\", \"spectral\"]:\n",
    "    print(f\"\\n--- Testing {method.upper()} ---\")\n",
    "    model = ClusterFactory.create(method, sector, start_date, end_date)\n",
    "    optimizer = ClusteringOptimizer(model)\n",
    "    best_params, best_score, all_results = optimizer.search()\n",
    "    print(f\"Best_parameters: {best_params}\")\n",
    "    print(f\"custom score: {best_score}\")\n",
    "    results[method] = (best_params, best_score)\n",
    "\n",
    "\n",
    "\n",
    "\n"
   ]
  },
  {
   "cell_type": "code",
   "execution_count": null,
   "id": "2997d549",
   "metadata": {},
   "outputs": [
    {
     "name": "stdout",
     "output_type": "stream",
     "text": [
      "\n",
      "Best method: GMM with score 0.9957682241937804\n",
      "\n",
      "Cluster 0 (7 items):\n",
      "['AKAM', 'AMAT', 'AVGO', 'EA', 'JNPR', 'LRCX', 'CRM']\n",
      "\n",
      "Cluster 1 (14 items):\n",
      "['ACN', 'GOOGL', 'GOOG', 'APH', 'ANSS', 'CSCO', 'IT', 'GPN', 'IBM', 'MCHP', 'MSFT', 'QCOM', 'TEL', 'VRSN']\n",
      "\n",
      "Cluster 2 (2 items):\n",
      "['AAPL', 'NVDA']\n",
      "\n",
      "Cluster 3 (2 items):\n",
      "['AMD', 'MU']\n",
      "\n",
      "Cluster 4 (5 items):\n",
      "['ADSK', 'FFIV', 'HPE', 'STX', 'WDC']\n",
      "\n",
      "Cluster 5 (6 items):\n",
      "['ADP', 'FIS', 'INTU', 'MSI', 'PAYX', 'SNPS']\n",
      "\n",
      "Cluster 6 (2 items):\n",
      "['QRVO', 'SWKS']\n",
      "\n",
      "Cluster 7 (7 items):\n",
      "['CDNS', 'GLW', 'DXC', 'HPQ', 'KLAC', 'NTAP', 'XRX']\n",
      "\n",
      "Cluster 8 (3 items):\n",
      "['CSRA', 'NFLX', 'PYPL']\n",
      "\n",
      "Cluster 9 (10 items):\n",
      "['ADBE', 'ADI', 'CTSH', 'EBAY', 'INTC', 'MA', 'ORCL', 'TXN', 'V', 'WU']\n",
      "           beta  momentum  volatility  liquidity  autocorrelation    spread  \\\n",
      "ACN   -0.696029 -0.811898   -0.903612  -0.318007         0.682283 -1.004556   \n",
      "ADBE  -0.100984 -0.158119   -0.265593  -0.307063        -0.971209 -0.276500   \n",
      "AMD    2.196870  5.146570    3.075141  -0.060050         0.046258  2.906193   \n",
      "AKAM   0.751309  0.098618    0.429510  -0.324728         0.367331  0.444504   \n",
      "GOOGL -0.872242 -0.120955   -0.664022   0.870620         0.817827 -0.688432   \n",
      "GOOG  -0.870691 -0.201857   -0.681833   0.864315         0.834180 -0.721544   \n",
      "APH    0.225672 -0.581953   -0.831113  -0.282200         0.194129 -0.881550   \n",
      "ADI   -0.009982  0.138738   -0.451412  -0.326510        -0.708790 -0.550129   \n",
      "ANSS  -0.507134 -0.936721   -0.700746  -0.356575         0.213815 -0.765114   \n",
      "AAPL  -0.999011  0.230801   -0.361420   4.624227         0.884734 -0.275441   \n",
      "\n",
      "       cluster  \n",
      "ACN          1  \n",
      "ADBE         9  \n",
      "AMD          3  \n",
      "AKAM         0  \n",
      "GOOGL        1  \n",
      "GOOG         1  \n",
      "APH          1  \n",
      "ADI          9  \n",
      "ANSS         1  \n",
      "AAPL         2  \n"
     ]
    },
    {
     "name": "stderr",
     "output_type": "stream",
     "text": [
      "c:\\Users\\meghn\\Desktop\\Cambridge\\Projects\\OU\\calibrate\\cointegration.py:17: FutureWarning: YF.download() has changed argument auto_adjust default to True\n",
      "  price_data = yf.download(ticker_list, start=start_date, end=end_date)\n",
      "[*********************100%***********************]  57 of 58 completed\n",
      "\n",
      "1 Failed download:\n",
      "['CSCO']: Timeout('Failed to perform, curl: (28) Connection timed out after 10013 milliseconds. See https://curl.se/libcurl/c/libcurl-errors.html first for more details.')\n"
     ]
    },
    {
     "name": "stdout",
     "output_type": "stream",
     "text": [
      "Ticker          AAPL        ACN       ADBE        ADI        ADP       ADSK  \\\n",
      "Date                                                                          \n",
      "2010-01-04  6.431898  31.492176  37.090000  22.062075  26.033323  25.670000   \n",
      "2010-01-05  6.443017  31.686802  37.700001  22.027241  25.893520  25.280001   \n",
      "2010-01-06  6.340530  32.023647  37.619999  21.985449  25.832727  25.340000   \n",
      "2010-01-07  6.328810  31.993713  36.889999  21.811293  25.820570  25.480000   \n",
      "2010-01-08  6.370887  31.866463  36.689999  21.936680  25.784109  26.260000   \n",
      "2010-01-11  6.314686  31.836519  36.209999  21.811293  25.899584  26.250000   \n",
      "2010-01-12  6.242854  31.634413  35.660000  20.905678  25.717243  25.889999   \n",
      "2010-01-13  6.330914  31.993713  36.279999  20.898716  25.905674  26.250000   \n",
      "2010-01-14  6.294248  32.278160  35.900002  20.877819  25.832727  26.600000   \n",
      "2010-01-15  6.189061  32.046108  35.869999  20.174221  25.692924  26.080000   \n",
      "\n",
      "Ticker           AKAM       AMAT   AMD       ANSS  ...       SNPS       STX  \\\n",
      "Date                                               ...                        \n",
      "2010-01-04  25.920000  11.080421  9.70  44.639999  ...  22.440001  9.840490   \n",
      "2010-01-05  26.690001  10.995187  9.71  43.639999  ...  22.250000  9.647744   \n",
      "2010-01-06  26.469999  10.971941  9.57  43.349998  ...  22.209999  9.580023   \n",
      "2010-01-07  26.480000  10.855714  9.47  43.459999  ...  22.150000  9.397695   \n",
      "2010-01-08  26.480000  11.274138  9.43  43.759998  ...  22.309999  9.319550   \n",
      "2010-01-11  26.389999  11.522087  9.14  43.930000  ...  22.120001  9.559188   \n",
      "2010-01-12  26.160000  11.002937  8.65  42.740002  ...  21.799999  9.230993   \n",
      "2010-01-13  26.040001  11.057176  9.15  43.040001  ...  22.010000  9.475833   \n",
      "2010-01-14  26.879999  11.119164  9.00  43.490002  ...  22.190001  9.553975   \n",
      "2010-01-15  26.610001  10.638756  8.84  43.340000  ...  21.969999  9.257042   \n",
      "\n",
      "Ticker           SWKS        TEL        TXN          V       VRSN        WDC  \\\n",
      "Date                                                                           \n",
      "2010-01-04  12.085763  18.468626  17.288870  19.719206  20.950867  27.412745   \n",
      "2010-01-05  12.273328  18.195621  17.189173  19.493242  21.171045  28.139547   \n",
      "2010-01-06  12.159159  18.564545  17.062878  19.231485  20.942398  28.163778   \n",
      "2010-01-07  12.020523  18.217751  17.116056  19.410460  20.654470  27.612614   \n",
      "2010-01-08  12.232555  18.446487  17.508224  19.464163  20.815371  27.751913   \n",
      "2010-01-11  12.240711  18.284153  17.282225  19.408232  20.756092  27.782206   \n",
      "2010-01-12  11.996058  18.254637  16.557699  19.316494  20.476637  27.067503   \n",
      "2010-01-13  12.273328  18.830175  16.630819  19.495480  20.662939  27.533876   \n",
      "2010-01-14  12.501674  18.933479  16.424759  19.562599  20.603661  27.721638   \n",
      "2010-01-15  12.053141  18.623571  16.285173  19.271757  20.307266  26.637476   \n",
      "\n",
      "Ticker             WU        XRX  \n",
      "Date                              \n",
      "2010-01-04   9.994595  10.798237  \n",
      "2010-01-05   9.952708  10.810748  \n",
      "2010-01-06   9.947474  10.710654  \n",
      "2010-01-07  10.266837  10.760698  \n",
      "2010-01-08  10.366312  10.723164  \n",
      "2010-01-11  10.455316  10.985924  \n",
      "2010-01-12  10.392491  11.073511  \n",
      "2010-01-13  10.539086  11.198640  \n",
      "2010-01-14  10.408199  11.123558  \n",
      "2010-01-15  10.224957  11.061001  \n",
      "\n",
      "[10 rows x 58 columns]\n"
     ]
    },
    {
     "name": "stderr",
     "output_type": "stream",
     "text": [
      "[*********************100%***********************]  57 of 58 completed"
     ]
    }
   ],
   "source": [
    "best_method, (best_params, best_score) = max(results.items(), key=lambda x: x[1][1])\n",
    "\n",
    "print(f\"\\nBest method: {best_method.upper()} with score {best_score}\")\n",
    "\n",
    "model = ClusterFactory.create(best_method, sector, start_date, end_date, **best_params)\n",
    "\n",
    "model.fit()\n",
    "model.show_baskets()\n",
    "model.evaluate()\n",
    "print(model.get_clustered_data().head(10))\n",
    "\n",
    "print(PriceData.get_time_series(model.get_clustered_data(), start_date, end_date)"
   ]
  }
 ],
 "metadata": {
  "kernelspec": {
   "display_name": "venv (3.12.3)",
   "language": "python",
   "name": "python3"
  },
  "language_info": {
   "codemirror_mode": {
    "name": "ipython",
    "version": 3
   },
   "file_extension": ".py",
   "mimetype": "text/x-python",
   "name": "python",
   "nbconvert_exporter": "python",
   "pygments_lexer": "ipython3",
   "version": "3.12.3"
  }
 },
 "nbformat": 4,
 "nbformat_minor": 5
}
