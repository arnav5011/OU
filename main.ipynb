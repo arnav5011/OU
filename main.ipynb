{
 "cells": [
  {
   "cell_type": "code",
   "execution_count": 1,
   "id": "9fc5015e",
   "metadata": {},
   "outputs": [],
   "source": [
    "from calibrate.cluster_model import ClusterFactory, ClusteringOptimizer\n",
    "from calibrate.cointegration import CointegrrationTest, BasketCointegrationTest\n",
    "from calibrate.OU_calibration import OUCalibration\n",
    "from calibrate.baskets import Basket\n",
    "from metric_calculation.backtest import BackTest\n",
    "from utils.price_data_utils import get_time_series\n",
    "from strategy.simple_implementation import OUTrader\n",
    "import matplotlib.pyplot as plt\n",
    "%matplotlib inline\n",
    "\n",
    "# Fill these cells after running the data parsing script\n",
    "sector = \"Information Technology\"\n",
    "data_start_date = 20100101\n",
    "data_end_date = 20170101\n",
    "\n",
    "backtest_start_date = 20180101\n",
    "backtest_end_date = 20250901\n",
    "initial_capital = 100000"
   ]
  },
  {
   "cell_type": "code",
   "execution_count": 2,
   "id": "c9b94554",
   "metadata": {},
   "outputs": [
    {
     "name": "stdout",
     "output_type": "stream",
     "text": [
      "\n",
      "--- Testing KMEANS ---\n",
      "Best_parameters: {'n_clusters': 10}\n",
      "custom score: 0.8903151363655653\n",
      "\n",
      "--- Testing GMM ---\n",
      "Best_parameters: {'n_components': 10, 'covariance_type': 'full'}\n",
      "custom score: 0.9957682241937804\n",
      "\n",
      "--- Testing HIERARCHICAL ---\n",
      "Best_parameters: {'n_clusters': 9, 'linkage': 'average'}\n",
      "custom score: 0.8989953733213722\n",
      "\n",
      "--- Testing SPECTRAL ---\n",
      "Best_parameters: {'n_clusters': 10, 'affinity': 'nearest_neighbors'}\n",
      "custom score: 0.6654449149537476\n"
     ]
    }
   ],
   "source": [
    "start_date = data_start_date\n",
    "end_date = data_end_date\n",
    "results = {}\n",
    "for method in [\"kmeans\", \"gmm\", \"hierarchical\", \"spectral\"]:\n",
    "    print(f\"\\n--- Testing {method.upper()} ---\")\n",
    "    model = ClusterFactory.create(method, sector, start_date, end_date)\n",
    "    optimizer = ClusteringOptimizer(model)\n",
    "    best_params, best_score, all_results = optimizer.search()\n",
    "    print(f\"Best_parameters: {best_params}\")\n",
    "    print(f\"custom score: {best_score}\")\n",
    "    results[method] = (best_params, best_score)"
   ]
  },
  {
   "cell_type": "code",
   "execution_count": 3,
   "id": "2997d549",
   "metadata": {},
   "outputs": [
    {
     "name": "stdout",
     "output_type": "stream",
     "text": [
      "\n",
      "Best method: GMM with score 0.9957682241937804\n",
      "\n",
      "Cluster 0 (7 items):\n",
      "['AKAM', 'AMAT', 'AVGO', 'EA', 'JNPR', 'LRCX', 'CRM']\n",
      "\n",
      "Cluster 1 (14 items):\n",
      "['ACN', 'GOOGL', 'GOOG', 'APH', 'ANSS', 'CSCO', 'IT', 'GPN', 'IBM', 'MCHP', 'MSFT', 'QCOM', 'TEL', 'VRSN']\n",
      "\n",
      "Cluster 2 (2 items):\n",
      "['AAPL', 'NVDA']\n",
      "\n",
      "Cluster 3 (2 items):\n",
      "['AMD', 'MU']\n",
      "\n",
      "Cluster 4 (5 items):\n",
      "['ADSK', 'FFIV', 'HPE', 'STX', 'WDC']\n",
      "\n",
      "Cluster 5 (6 items):\n",
      "['ADP', 'FIS', 'INTU', 'MSI', 'PAYX', 'SNPS']\n",
      "\n",
      "Cluster 6 (2 items):\n",
      "['QRVO', 'SWKS']\n",
      "\n",
      "Cluster 7 (7 items):\n",
      "['CDNS', 'GLW', 'DXC', 'HPQ', 'KLAC', 'NTAP', 'XRX']\n",
      "\n",
      "Cluster 8 (3 items):\n",
      "['CSRA', 'NFLX', 'PYPL']\n",
      "\n",
      "Cluster 9 (10 items):\n",
      "['ADBE', 'ADI', 'CTSH', 'EBAY', 'INTC', 'MA', 'ORCL', 'TXN', 'V', 'WU']\n"
     ]
    }
   ],
   "source": [
    "# Best parameters and clustering method\n",
    "best_method, (best_params, best_score) = max(results.items(), key=lambda x: x[1][1])\n",
    "print(f\"\\nBest method: {best_method.upper()} with score {best_score}\")\n",
    "\n",
    "# Getting Clustered Data\n",
    "model = ClusterFactory.create(best_method, sector, start_date, end_date, **best_params)\n",
    "model.fit()\n",
    "model.show_baskets()\n",
    "model.evaluate()\n",
    "clustered_data = model.get_clustered_data()"
   ]
  },
  {
   "cell_type": "code",
   "execution_count": 4,
   "id": "2413c71c",
   "metadata": {},
   "outputs": [
    {
     "name": "stderr",
     "output_type": "stream",
     "text": [
      "c:\\Users\\meghn\\Desktop\\Cambridge\\Projects\\OU\\utils\\price_data_utils.py:25: FutureWarning: YF.download() has changed argument auto_adjust default to True\n",
      "  prices = yf.download(batch, start=start_date, end=end_date)['Close']\n",
      "[*********************100%***********************]  20 of 20 completed\n",
      "c:\\Users\\meghn\\Desktop\\Cambridge\\Projects\\OU\\utils\\price_data_utils.py:25: FutureWarning: YF.download() has changed argument auto_adjust default to True\n",
      "  prices = yf.download(batch, start=start_date, end=end_date)['Close']\n",
      "[*********************100%***********************]  20 of 20 completed\n",
      "\n",
      "1 Failed download:\n",
      "['JNPR']: YFPricesMissingError('possibly delisted; no price data found  (1d 2010-01-01 -> 2017-01-01) (Yahoo error = \"No data found, symbol may be delisted\")')\n",
      "c:\\Users\\meghn\\Desktop\\Cambridge\\Projects\\OU\\utils\\price_data_utils.py:25: FutureWarning: YF.download() has changed argument auto_adjust default to True\n",
      "  prices = yf.download(batch, start=start_date, end=end_date)['Close']\n",
      "[*********************100%***********************]  18 of 18 completed\n"
     ]
    }
   ],
   "source": [
    "# Getting Price data for the dates\n",
    "price_data = get_time_series(clustered_data, start_date, end_date)"
   ]
  },
  {
   "cell_type": "code",
   "execution_count": 5,
   "id": "bb255834",
   "metadata": {},
   "outputs": [
    {
     "name": "stderr",
     "output_type": "stream",
     "text": [
      "c:\\Users\\meghn\\Desktop\\Cambridge\\Projects\\OU\\calibrate\\cointegration.py:79: HypothesisTestWarning: Critical values are only available for time series with 12 variables at most.\n",
      "  result = coint_johansen(series, det_order=0, k_ar_diff=1)\n"
     ]
    },
    {
     "name": "stdout",
     "output_type": "stream",
     "text": [
      "\n",
      "--- Cointegrated Clusters ---\n",
      "Cluster: 1\n",
      "  Cointegration Type: Johansen\n",
      "  Rank: 2\n",
      "  Chosen Weights: [ 1.          4.05834743 -4.27328485 -0.62853944 -0.64122186  0.41614151\n",
      " -0.4232211  -0.47856889 -1.15296715  0.03386879 -0.04576218  1.10905716\n",
      " -0.03384351  0.74498193]\n",
      "  Ticker List: ACN, GOOGL, GOOG, APH, ANSS, CSCO, IT, GPN, IBM, MCHP, MSFT, QCOM, TEL, VRSN\n",
      "Cluster: 7\n",
      "  Cointegration Type: Johansen\n",
      "  Rank: 1\n",
      "  Chosen Weights: [  1.         157.74218497 -41.59733854 -47.14151095 -26.10779931\n",
      " -12.38951423 -23.99651082]\n",
      "  Ticker List: CDNS, GLW, DXC, HPQ, KLAC, NTAP, XRX\n",
      "Cluster: 8\n",
      "  Cointegration Type: Johansen\n",
      "  Rank: 1\n",
      "  Chosen Weights: [ 1.         -0.687001    0.14611958]\n",
      "  Ticker List: CSRA, NFLX, PYPL\n",
      "Cluster: 6\n",
      "  Cointegration Type: Engle-Granger\n",
      "  P-value: 0.1985049578715946\n",
      "  Alpha: -0.3036551062697962\n",
      "  Beta: 1.04056736640229\n",
      "  Ticker 1: QRVO\n",
      "  Ticker 2: SWKS\n"
     ]
    }
   ],
   "source": [
    "# Running Cointegration Tests for all the baskets and get the optimum weights if clustered\n",
    "cointegration_test = CointegrrationTest(price_data, clustered_data)\n",
    "cointegrated_clustrs = cointegration_test.get_cointegrated_clusters()\n",
    "print(\"\\n--- Cointegrated Clusters ---\")\n",
    "for cluster in cointegrated_clustrs:\n",
    "    print(f\"Cluster: {cluster}\")\n",
    "    print(f\"  Cointegration Type: {cointegrated_clustrs[cluster].type}\")\n",
    "    if cointegrated_clustrs[cluster].type == 'Engle-Granger':\n",
    "        print(f\"  P-value: {cointegrated_clustrs[cluster].p_value}\")\n",
    "        print(f\"  Alpha: {cointegrated_clustrs[cluster].alpha}\")\n",
    "        print(f\"  Beta: {cointegrated_clustrs[cluster].beta}\")\n",
    "        print(f\"  Ticker 1: {cointegrated_clustrs[cluster].ticker_1}\")\n",
    "        print(f\"  Ticker 2: {cointegrated_clustrs[cluster].ticker_2}\")\n",
    "    elif cointegrated_clustrs[cluster].type == 'Johansen':\n",
    "        print(f\"  Rank: {cointegrated_clustrs[cluster].rank}\")\n",
    "        print(f\"  Chosen Weights: {cointegrated_clustrs[cluster].chosen_weights}\")\n",
    "        print(f\"  Ticker List: {', '.join(cointegrated_clustrs[cluster].ticker_list)}\")\n",
    "\n",
    "   "
   ]
  },
  {
   "cell_type": "code",
   "execution_count": 6,
   "id": "5e7ba943",
   "metadata": {},
   "outputs": [
    {
     "name": "stdout",
     "output_type": "stream",
     "text": [
      "Cluster 1:\n",
      " theta=0.0797, mean=-1.2620, vol=0.0264, half-life=8.70\n",
      "Cluster 7:\n",
      " theta=0.0253, mean=-15.5058, vol=2.4447, half-life=27.43\n",
      "Cluster 8:\n",
      " theta=0.0931, mean=0.6055, vol=0.0282, half-life=7.44\n",
      "Cluster 6:\n",
      " theta=0.0216, mean=-0.6384, vol=0.0231, half-life=32.08\n"
     ]
    }
   ],
   "source": [
    "# OU Calibration for the cointegrated clusters\n",
    "oucal = OUCalibration(price_data, cointegrated_clustrs)\n",
    "spreads = oucal.form_spread()\n",
    "\n",
    "ou_params = oucal.fit_ou_parameters(spreads)\n",
    "\n",
    "for cluster in ou_params:\n",
    "    print(f\"Cluster {cluster}:\")\n",
    "    result = ou_params[cluster]\n",
    "    theta, mu, sigma, half_life = result.theta, result.mu, result.sigma, result.half_life\n",
    "    print(f\" theta={theta:.4f}, mean={mu:.4f}, vol={sigma:.4f}, half-life={half_life:.2f}\")\n"
   ]
  },
  {
   "cell_type": "code",
   "execution_count": 7,
   "id": "0e2705b3",
   "metadata": {},
   "outputs": [],
   "source": [
    "# Create a basket list with OU parameters and cointegration results\n",
    "basket_list = []\n",
    "for cluster in ou_params:\n",
    "    cluster_id = cluster\n",
    "    params = ou_params[cluster]\n",
    "    cointegration_result = cointegrated_clustrs[cluster]\n",
    "    basket = Basket(cluster_id,cointegration_result,params)\n",
    "    basket_list.append(basket)"
   ]
  },
  {
   "cell_type": "code",
   "execution_count": 8,
   "id": "37a783e4",
   "metadata": {},
   "outputs": [
    {
     "name": "stdout",
     "output_type": "stream",
     "text": [
      "Number of baskets after filtering: 1\n",
      "Basket(cluster_id=6, cointegration_type=Engle-Granger)\n",
      "tickers: ['QRVO', 'SWKS']\n",
      "OU Params: mu=-0.6384, sigma=0.0231, half_life=32.08\n"
     ]
    }
   ],
   "source": [
    "# Secondary OU cointegration test for all the baskets and filter out the non-cointegrated ones\n",
    "filtered_baskets = []\n",
    "for basket in basket_list:\n",
    "    basket_test = BasketCointegrationTest(basket, price_data)\n",
    "    test_result = basket_test.run_test()\n",
    "    if test_result:\n",
    "        filtered_baskets.append(basket)\n",
    "\n",
    "print(f\"Number of baskets after filtering: {len(filtered_baskets)}\")\n",
    "for basket in filtered_baskets:\n",
    "    print(basket)"
   ]
  },
  {
   "cell_type": "code",
   "execution_count": 9,
   "id": "2c1ea86e",
   "metadata": {},
   "outputs": [
    {
     "name": "stderr",
     "output_type": "stream",
     "text": [
      "c:\\Users\\meghn\\Desktop\\Cambridge\\Projects\\OU\\utils\\price_data_utils.py:25: FutureWarning: YF.download() has changed argument auto_adjust default to True\n",
      "  prices = yf.download(batch, start=start_date, end=end_date)['Close']\n",
      "[*********************100%***********************]  2 of 2 completed"
     ]
    },
    {
     "name": "stdout",
     "output_type": "stream",
     "text": [
      "1\n"
     ]
    },
    {
     "name": "stderr",
     "output_type": "stream",
     "text": [
      "\n"
     ]
    }
   ],
   "source": [
    "# Running the OU Trading Strategy\n",
    "start_date = backtest_start_date\n",
    "end_date = backtest_end_date\n",
    "initial_capital = initial_capital\n",
    "trader = OUTrader(start_date, end_date, filtered_baskets, initial_capital=initial_capital)\n",
    "trading_results = trader.run()"
   ]
  },
  {
   "cell_type": "code",
   "execution_count": 10,
   "id": "c81eeac6",
   "metadata": {},
   "outputs": [
    {
     "data": {
      "image/png": "[encoded data removed]",
      "text/plain": [
       "<Figure size 1200x600 with 1 Axes>"
      ]
     },
     "metadata": {},
     "output_type": "display_data"
    }
   ],
   "source": [
    "cum_pnl = trading_results[\"portfolio_cum_pnl\"]\n",
    "\n",
    "plt.figure(figsize=(12, 6))\n",
    "plt.plot(cum_pnl, label=\"Cumulative PnL\")\n",
    "plt.xlabel(\"Date\")\n",
    "plt.ylabel(\"Cumulative PnL\")\n",
    "plt.title(\"Portfolio Cumulative PnL Over Time\")\n",
    "plt.legend()\n",
    "plt.grid(True)\n",
    "plt.show()"
   ]
  },
  {
   "cell_type": "code",
   "execution_count": 11,
   "id": "bac6d19d",
   "metadata": {},
   "outputs": [
    {
     "name": "stderr",
     "output_type": "stream",
     "text": [
      "c:\\Users\\meghn\\Desktop\\Cambridge\\Projects\\OU\\utils\\price_data_utils.py:25: FutureWarning: YF.download() has changed argument auto_adjust default to True\n",
      "  prices = yf.download(batch, start=start_date, end=end_date)['Close']\n",
      "[*********************100%***********************]  2 of 2 completed\n",
      "c:\\Users\\meghn\\Desktop\\Cambridge\\Projects\\OU\\utils\\price_data_utils.py:25: FutureWarning: YF.download() has changed argument auto_adjust default to True\n",
      "  prices = yf.download(batch, start=start_date, end=end_date)['Close']\n",
      "[*********************100%***********************]  1 of 1 completed"
     ]
    },
    {
     "name": "stdout",
     "output_type": "stream",
     "text": [
      "\n",
      "--- Performance Summary ---\n",
      "alpha: 7.759405630301779\n",
      "beta: 2.1846698907947975\n",
      "sharpe_ratio: 0.35477583609636854\n",
      "sortino_ratio: 1.7375553566416375\n",
      "drawdown: -3.5040295233287\n",
      "win_rate: 0.5163636363636364\n"
     ]
    },
    {
     "name": "stderr",
     "output_type": "stream",
     "text": [
      "\n"
     ]
    }
   ],
   "source": [
    "benchmark = \"SPY\"\n",
    "backtest = BackTest(\n",
    "    trading_results=trading_results,\n",
    "    start_date=start_date,\n",
    "    end_date=end_date,\n",
    "    baskets=filtered_baskets,\n",
    "    initial_capital=initial_capital,\n",
    "    benchmark=benchmark,\n",
    "    risk_free_rate=0.01,\n",
    "    year_convention=252\n",
    ")\n",
    "\n",
    "performance_summary = backtest.summary()\n",
    "print(\"\\n--- Performance Summary ---\")\n",
    "for metric, value in performance_summary.items():\n",
    "    print(f\"{metric}: {value}\")"
   ]
  }
 ],
 "metadata": {
  "kernelspec": {
   "display_name": "venv (3.12.3)",
   "language": "python",
   "name": "python3"
  },
  "language_info": {
   "codemirror_mode": {
    "name": "ipython",
    "version": 3
   },
   "file_extension": ".py",
   "mimetype": "text/x-python",
   "name": "python",
   "nbconvert_exporter": "python",
   "pygments_lexer": "ipython3",
   "version": "3.12.3"
  }
 },
 "nbformat": 4,
 "nbformat_minor": 5
}
